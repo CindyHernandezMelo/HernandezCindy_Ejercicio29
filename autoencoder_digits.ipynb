{
  "nbformat": 4,
  "nbformat_minor": 0,
  "metadata": {
    "colab": {
      "name": "autoencoder_digits",
      "provenance": []
    },
    "kernelspec": {
      "name": "python3",
      "display_name": "Python 3"
    }
  },
  "cells": [
    {
      "cell_type": "code",
      "metadata": {
        "id": "zp1-3K_hWnBP",
        "colab_type": "code",
        "colab": {}
      },
      "source": [
        "import numpy as np\n",
        "import matplotlib.pyplot as plt\n",
        "import torch\n",
        "import torchvision\n",
        "import torchvision.datasets\n",
        "import torchvision.models\n",
        "import torchvision.transforms\n",
        "import sklearn.datasets as skdata\n",
        "from sklearn.preprocessing import StandardScaler"
      ],
      "execution_count": 0,
      "outputs": []
    },
    {
      "cell_type": "code",
      "metadata": {
        "id": "OyqMPV2CXcEf",
        "colab_type": "code",
        "colab": {}
      },
      "source": [
        "numeros = skdata.load_digits()\n",
        "target = numeros['target']\n",
        "imagenes = numeros['images']\n",
        "n_imagenes = len(target)\n",
        "\n",
        "x_train = torch.autograd.Variable(torch.Tensor(imagenes).float())\n",
        "x_train = x_train.unsqueeze(1)\n",
        "\n",
        "mean = x_train.mean(dim=0)\n",
        "std = x_train.std(dim=0)\n",
        "std[std==0]=1.0\n",
        "\n",
        "for i in range(len(x_train)):\n",
        "    x_train[i] = (x_train[i]-mean)/std\n"
      ],
      "execution_count": 0,
      "outputs": []
    },
    {
      "cell_type": "code",
      "metadata": {
        "id": "vwVagOnqbCTW",
        "colab_type": "code",
        "colab": {}
      },
      "source": [
        "class Autoencoder(torch.nn.Module):\n",
        "    def __init__(self):\n",
        "        super(Autoencoder,self).__init__()\n",
        "        self.encoder = torch.nn.Sequential(\n",
        "            torch.nn.Conv2d(1, 20, kernel_size=2, stride=2),\n",
        "            torch.nn.ReLU(True),\n",
        "            torch.nn.Conv2d(20,40,kernel_size=2),\n",
        "            torch.nn.ReLU(True))\n",
        "        self.decoder = torch.nn.Sequential(             \n",
        "            torch.nn.ConvTranspose2d(40,20,kernel_size=2),\n",
        "            torch.nn.ReLU(True),\n",
        "            torch.nn.ConvTranspose2d(20,1,kernel_size=2, stride=2),\n",
        "            torch.nn.ReLU(True))\n",
        "    def forward(self,x):\n",
        "        x = self.encoder(x)\n",
        "        x = self.decoder(x)\n",
        "        return x"
      ],
      "execution_count": 0,
      "outputs": []
    },
    {
      "cell_type": "code",
      "metadata": {
        "id": "aWcmd_HIeELk",
        "colab_type": "code",
        "colab": {}
      },
      "source": [
        "num_epochs = 200\n",
        "model = Autoencoder()\n",
        "distance = torch.nn.MSELoss()\n",
        "optimizer = torch.optim.Adam(model.parameters(), lr=0.01, weight_decay=1E-3)\n"
      ],
      "execution_count": 0,
      "outputs": []
    },
    {
      "cell_type": "code",
      "metadata": {
        "id": "xMKoJcKeibCk",
        "colab_type": "code",
        "outputId": "8f532d52-5d04-4726-8dea-0fa4958e7d3b",
        "colab": {
          "base_uri": "https://localhost:8080/",
          "height": 1000
        }
      },
      "source": [
        "loss_values = np.zeros(num_epochs)\n",
        "for epoch in range(num_epochs):\n",
        "    output = model(x_train)\n",
        "    loss = distance(output, x_train)\n",
        "    loss_values[epoch] = loss.item()\n",
        "    optimizer.zero_grad()\n",
        "    loss.backward()\n",
        "    optimizer.step()\n",
        "    print('epoch [{}/{}], loss:{:.4f}'.format(epoch+1, num_epochs, loss.item()))"
      ],
      "execution_count": 350,
      "outputs": [
        {
          "output_type": "stream",
          "text": [
            "epoch [1/200], loss:0.9671\n",
            "epoch [2/200], loss:0.9169\n",
            "epoch [3/200], loss:0.8654\n",
            "epoch [4/200], loss:0.7952\n",
            "epoch [5/200], loss:0.7283\n",
            "epoch [6/200], loss:0.6734\n",
            "epoch [7/200], loss:0.6258\n",
            "epoch [8/200], loss:0.5914\n",
            "epoch [9/200], loss:0.5650\n",
            "epoch [10/200], loss:0.5417\n",
            "epoch [11/200], loss:0.5282\n",
            "epoch [12/200], loss:0.5099\n",
            "epoch [13/200], loss:0.4981\n",
            "epoch [14/200], loss:0.4849\n",
            "epoch [15/200], loss:0.4732\n",
            "epoch [16/200], loss:0.4690\n",
            "epoch [17/200], loss:0.4630\n",
            "epoch [18/200], loss:0.4577\n",
            "epoch [19/200], loss:0.4482\n",
            "epoch [20/200], loss:0.4413\n",
            "epoch [21/200], loss:0.4320\n",
            "epoch [22/200], loss:0.4258\n",
            "epoch [23/200], loss:0.4185\n",
            "epoch [24/200], loss:0.4125\n",
            "epoch [25/200], loss:0.4061\n",
            "epoch [26/200], loss:0.4008\n",
            "epoch [27/200], loss:0.3960\n",
            "epoch [28/200], loss:0.3919\n",
            "epoch [29/200], loss:0.3890\n",
            "epoch [30/200], loss:0.3852\n",
            "epoch [31/200], loss:0.3824\n",
            "epoch [32/200], loss:0.3793\n",
            "epoch [33/200], loss:0.3768\n",
            "epoch [34/200], loss:0.3742\n",
            "epoch [35/200], loss:0.3725\n",
            "epoch [36/200], loss:0.3705\n",
            "epoch [37/200], loss:0.3691\n",
            "epoch [38/200], loss:0.3675\n",
            "epoch [39/200], loss:0.3663\n",
            "epoch [40/200], loss:0.3648\n",
            "epoch [41/200], loss:0.3636\n",
            "epoch [42/200], loss:0.3624\n",
            "epoch [43/200], loss:0.3611\n",
            "epoch [44/200], loss:0.3599\n",
            "epoch [45/200], loss:0.3589\n",
            "epoch [46/200], loss:0.3578\n",
            "epoch [47/200], loss:0.3568\n",
            "epoch [48/200], loss:0.3558\n",
            "epoch [49/200], loss:0.3551\n",
            "epoch [50/200], loss:0.3543\n",
            "epoch [51/200], loss:0.3539\n",
            "epoch [52/200], loss:0.3536\n",
            "epoch [53/200], loss:0.3541\n",
            "epoch [54/200], loss:0.3560\n",
            "epoch [55/200], loss:0.3562\n",
            "epoch [56/200], loss:0.3553\n",
            "epoch [57/200], loss:0.3510\n",
            "epoch [58/200], loss:0.3532\n",
            "epoch [59/200], loss:0.3527\n",
            "epoch [60/200], loss:0.3495\n",
            "epoch [61/200], loss:0.3506\n",
            "epoch [62/200], loss:0.3497\n",
            "epoch [63/200], loss:0.3486\n",
            "epoch [64/200], loss:0.3499\n",
            "epoch [65/200], loss:0.3474\n",
            "epoch [66/200], loss:0.3490\n",
            "epoch [67/200], loss:0.3493\n",
            "epoch [68/200], loss:0.3465\n",
            "epoch [69/200], loss:0.3498\n",
            "epoch [70/200], loss:0.3469\n",
            "epoch [71/200], loss:0.3478\n",
            "epoch [72/200], loss:0.3481\n",
            "epoch [73/200], loss:0.3452\n",
            "epoch [74/200], loss:0.3473\n",
            "epoch [75/200], loss:0.3455\n",
            "epoch [76/200], loss:0.3478\n",
            "epoch [77/200], loss:0.3453\n",
            "epoch [78/200], loss:0.3453\n",
            "epoch [79/200], loss:0.3450\n",
            "epoch [80/200], loss:0.3446\n",
            "epoch [81/200], loss:0.3443\n",
            "epoch [82/200], loss:0.3433\n",
            "epoch [83/200], loss:0.3439\n",
            "epoch [84/200], loss:0.3429\n",
            "epoch [85/200], loss:0.3432\n",
            "epoch [86/200], loss:0.3423\n",
            "epoch [87/200], loss:0.3429\n",
            "epoch [88/200], loss:0.3421\n",
            "epoch [89/200], loss:0.3424\n",
            "epoch [90/200], loss:0.3418\n",
            "epoch [91/200], loss:0.3415\n",
            "epoch [92/200], loss:0.3417\n",
            "epoch [93/200], loss:0.3412\n",
            "epoch [94/200], loss:0.3417\n",
            "epoch [95/200], loss:0.3412\n",
            "epoch [96/200], loss:0.3411\n",
            "epoch [97/200], loss:0.3411\n",
            "epoch [98/200], loss:0.3406\n",
            "epoch [99/200], loss:0.3408\n",
            "epoch [100/200], loss:0.3403\n",
            "epoch [101/200], loss:0.3403\n",
            "epoch [102/200], loss:0.3402\n",
            "epoch [103/200], loss:0.3401\n",
            "epoch [104/200], loss:0.3404\n",
            "epoch [105/200], loss:0.3409\n",
            "epoch [106/200], loss:0.3411\n",
            "epoch [107/200], loss:0.3426\n",
            "epoch [108/200], loss:0.3413\n",
            "epoch [109/200], loss:0.3408\n",
            "epoch [110/200], loss:0.3402\n",
            "epoch [111/200], loss:0.3397\n",
            "epoch [112/200], loss:0.3398\n",
            "epoch [113/200], loss:0.3393\n",
            "epoch [114/200], loss:0.3392\n",
            "epoch [115/200], loss:0.3395\n",
            "epoch [116/200], loss:0.3391\n",
            "epoch [117/200], loss:0.3392\n",
            "epoch [118/200], loss:0.3387\n",
            "epoch [119/200], loss:0.3386\n",
            "epoch [120/200], loss:0.3387\n",
            "epoch [121/200], loss:0.3386\n",
            "epoch [122/200], loss:0.3384\n",
            "epoch [123/200], loss:0.3381\n",
            "epoch [124/200], loss:0.3377\n",
            "epoch [125/200], loss:0.3377\n",
            "epoch [126/200], loss:0.3379\n",
            "epoch [127/200], loss:0.3381\n",
            "epoch [128/200], loss:0.3382\n",
            "epoch [129/200], loss:0.3384\n",
            "epoch [130/200], loss:0.3382\n",
            "epoch [131/200], loss:0.3380\n",
            "epoch [132/200], loss:0.3378\n",
            "epoch [133/200], loss:0.3376\n",
            "epoch [134/200], loss:0.3379\n",
            "epoch [135/200], loss:0.3380\n",
            "epoch [136/200], loss:0.3388\n",
            "epoch [137/200], loss:0.3384\n",
            "epoch [138/200], loss:0.3382\n",
            "epoch [139/200], loss:0.3372\n",
            "epoch [140/200], loss:0.3366\n",
            "epoch [141/200], loss:0.3367\n",
            "epoch [142/200], loss:0.3371\n",
            "epoch [143/200], loss:0.3379\n",
            "epoch [144/200], loss:0.3378\n",
            "epoch [145/200], loss:0.3380\n",
            "epoch [146/200], loss:0.3372\n",
            "epoch [147/200], loss:0.3368\n",
            "epoch [148/200], loss:0.3370\n",
            "epoch [149/200], loss:0.3375\n",
            "epoch [150/200], loss:0.3383\n",
            "epoch [151/200], loss:0.3376\n",
            "epoch [152/200], loss:0.3368\n",
            "epoch [153/200], loss:0.3361\n",
            "epoch [154/200], loss:0.3361\n",
            "epoch [155/200], loss:0.3366\n",
            "epoch [156/200], loss:0.3368\n",
            "epoch [157/200], loss:0.3370\n",
            "epoch [158/200], loss:0.3363\n",
            "epoch [159/200], loss:0.3359\n",
            "epoch [160/200], loss:0.3357\n",
            "epoch [161/200], loss:0.3358\n",
            "epoch [162/200], loss:0.3362\n",
            "epoch [163/200], loss:0.3362\n",
            "epoch [164/200], loss:0.3362\n",
            "epoch [165/200], loss:0.3360\n",
            "epoch [166/200], loss:0.3359\n",
            "epoch [167/200], loss:0.3364\n",
            "epoch [168/200], loss:0.3381\n",
            "epoch [169/200], loss:0.3439\n",
            "epoch [170/200], loss:0.3428\n",
            "epoch [171/200], loss:0.3418\n",
            "epoch [172/200], loss:0.3379\n",
            "epoch [173/200], loss:0.3384\n",
            "epoch [174/200], loss:0.3413\n",
            "epoch [175/200], loss:0.3371\n",
            "epoch [176/200], loss:0.3404\n",
            "epoch [177/200], loss:0.3429\n",
            "epoch [178/200], loss:0.3363\n",
            "epoch [179/200], loss:0.3454\n",
            "epoch [180/200], loss:0.3429\n",
            "epoch [181/200], loss:0.3399\n",
            "epoch [182/200], loss:0.3440\n",
            "epoch [183/200], loss:0.3357\n",
            "epoch [184/200], loss:0.3411\n",
            "epoch [185/200], loss:0.3358\n",
            "epoch [186/200], loss:0.3408\n",
            "epoch [187/200], loss:0.3359\n",
            "epoch [188/200], loss:0.3391\n",
            "epoch [189/200], loss:0.3356\n",
            "epoch [190/200], loss:0.3386\n",
            "epoch [191/200], loss:0.3359\n",
            "epoch [192/200], loss:0.3375\n",
            "epoch [193/200], loss:0.3356\n",
            "epoch [194/200], loss:0.3369\n",
            "epoch [195/200], loss:0.3359\n",
            "epoch [196/200], loss:0.3363\n",
            "epoch [197/200], loss:0.3357\n",
            "epoch [198/200], loss:0.3355\n",
            "epoch [199/200], loss:0.3359\n",
            "epoch [200/200], loss:0.3351\n"
          ],
          "name": "stdout"
        }
      ]
    },
    {
      "cell_type": "code",
      "metadata": {
        "id": "8Xw3QiPQeF1C",
        "colab_type": "code",
        "outputId": "4063a901-ad5f-47ce-dab8-17a065545de9",
        "colab": {
          "base_uri": "https://localhost:8080/",
          "height": 279
        }
      },
      "source": [
        "plt.plot(np.arange(num_epochs), loss_values)\n",
        "plt.xlabel('epoch')\n",
        "plt.ylabel('loss')\n",
        "plt.yscale('logit')"
      ],
      "execution_count": 351,
      "outputs": [
        {
          "output_type": "display_data",
          "data": {
            "image/png": "[encoded data removed]",
            "text/plain": [
              "<Figure size 432x288 with 1 Axes>"
            ]
          },
          "metadata": {
            "tags": [],
            "needs_background": "light"
          }
        }
      ]
    },
    {
      "cell_type": "code",
      "metadata": {
        "id": "ZLWXHYYRuXLw",
        "colab_type": "code",
        "colab": {}
      },
      "source": [
        "x_transform = model(x_train)\n",
        "latent_space = model.encoder(x_train)"
      ],
      "execution_count": 0,
      "outputs": []
    },
    {
      "cell_type": "code",
      "metadata": {
        "id": "6iP7Lgjvt5eY",
        "colab_type": "code",
        "outputId": "a6a2bcf5-a21a-4d61-c0b1-f098e8494947",
        "colab": {
          "base_uri": "https://localhost:8080/",
          "height": 510
        }
      },
      "source": [
        "plt.figure(figsize=(14,14))\n",
        "offset = 550\n",
        "for i in range(5):\n",
        "    plt.subplot(5,5,i+1) #imagenes originales\n",
        "    plt.imshow(x_train[i+offset][0].detach().numpy())\n",
        "    plt.title(target[i+offset])\n",
        "    \n",
        "    j=0 # las imagenes reconstruidas por el autoencoder\n",
        "    plt.subplot(5,5,(i+1)+5*(j+1))\n",
        "    plt.imshow(x_transform[i+offset][0].detach().numpy())\n",
        "    \n",
        "    j=1 # una de las capas de la representacion latente\n",
        "    plt.subplot(5,5,(i+1)+5*(j+1))\n",
        "    plt.imshow(latent_space[i+offset][2].detach().numpy())"
      ],
      "execution_count": 353,
      "outputs": [
        {
          "output_type": "display_data",
          "data": {
            "image/png": "[encoded data removed]",
            "text/plain": [
              "<Figure size 1008x1008 with 15 Axes>"
            ]
          },
          "metadata": {
            "tags": [],
            "needs_background": "light"
          }
        }
      ]
    }
  ]
}