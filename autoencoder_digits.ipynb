{
  "nbformat": 4,
  "nbformat_minor": 0,
  "metadata": {
    "colab": {
      "name": "autoencoder_digits.ipynb",
      "provenance": []
    },
    "kernelspec": {
      "name": "python3",
      "display_name": "Python 3"
    }
  },
  "cells": [
    {
      "cell_type": "code",
      "metadata": {
        "id": "zp1-3K_hWnBP",
        "colab_type": "code",
        "colab": {}
      },
      "source": [
        "import numpy as np\n",
        "import matplotlib.pyplot as plt\n",
        "import torch\n",
        "import torchvision\n",
        "import torchvision.datasets\n",
        "import torchvision.models\n",
        "import torchvision.transforms\n",
        "import sklearn.datasets as skdata\n",
        "from sklearn.preprocessing import StandardScaler"
      ],
      "execution_count": 0,
      "outputs": []
    },
    {
      "cell_type": "code",
      "metadata": {
        "id": "OyqMPV2CXcEf",
        "colab_type": "code",
        "colab": {}
      },
      "source": [
        "numeros = skdata.load_digits()\n",
        "target = numeros['target']\n",
        "imagenes = numeros['images']\n",
        "n_imagenes = len(target)\n",
        "\n",
        "mean = np.mean(imagenes,axis=0)\n",
        "std = imagenes.std(axis=0)\n",
        "std[std==0]=1.0\n",
        "\n",
        "for i in range(len(train)):\n",
        "    imagenes[i] = (imagenes[i]-mean)/std\n"
      ],
      "execution_count": 0,
      "outputs": []
    },
    {
      "cell_type": "code",
      "metadata": {
        "id": "1Q9j95leh9II",
        "colab_type": "code",
        "colab": {
          "base_uri": "https://localhost:8080/",
          "height": 35
        },
        "outputId": "18ba940c-ca34-4501-9b5a-1fee061fe6a9"
      },
      "source": [
        "x_train = torch.autograd.Variable(torch.Tensor(imagenes).float())\n",
        "x_train = x_train.unsqueeze(1)\n",
        "\n",
        "X_new = x_train # necesario para que las dimensiones sean [batch, channel, width]\n",
        "feature_maps = torch.autograd.Variable(torch.Tensor(X_new).float())\n",
        "\n",
        "n =  torch.nn.Conv2d(1, 15, 2, stride=3)\n",
        "feature_maps = n(feature_maps)\n",
        "\n",
        "n =   torch.nn.Conv2d(15, 5, 2)\n",
        "feature_maps = n(feature_maps)\n",
        "\n",
        "print(feature_maps.size())"
      ],
      "execution_count": 158,
      "outputs": [
        {
          "output_type": "stream",
          "text": [
            "torch.Size([1797, 5, 2, 2])\n"
          ],
          "name": "stdout"
        }
      ]
    },
    {
      "cell_type": "code",
      "metadata": {
        "id": "vwVagOnqbCTW",
        "colab_type": "code",
        "colab": {}
      },
      "source": [
        "class Autoencoder(torch.nn.Module):\n",
        "    def __init__(self):\n",
        "        super(Autoencoder,self).__init__()\n",
        "        self.encoder = torch.nn.Sequential(\n",
        "            torch.nn.Conv2d(1, 20, kernel_size=2, stride=2),\n",
        "            torch.nn.ReLU(True),\n",
        "            torch.nn.Conv2d(20,40,kernel_size=2),\n",
        "            torch.nn.ReLU(True))\n",
        "        self.decoder = torch.nn.Sequential(             \n",
        "            torch.nn.ConvTranspose2d(40,20,kernel_size=2),\n",
        "            torch.nn.ReLU(True),\n",
        "            torch.nn.ConvTranspose2d(20,1,kernel_size=2, stride=2),\n",
        "            torch.nn.ReLU(True))\n",
        "    def forward(self,x):\n",
        "        x = self.encoder(x)\n",
        "        x = self.decoder(x)\n",
        "        return x"
      ],
      "execution_count": 0,
      "outputs": []
    },
    {
      "cell_type": "code",
      "metadata": {
        "id": "aWcmd_HIeELk",
        "colab_type": "code",
        "colab": {}
      },
      "source": [
        "num_epochs = 200\n",
        "model = Autoencoder()\n",
        "distance = torch.nn.MSELoss()\n",
        "optimizer = torch.optim.Adam(model.parameters(), lr=0.01, weight_decay=1E-3)"
      ],
      "execution_count": 0,
      "outputs": []
    },
    {
      "cell_type": "code",
      "metadata": {
        "id": "xMKoJcKeibCk",
        "colab_type": "code",
        "colab": {
          "base_uri": "https://localhost:8080/",
          "height": 1000
        },
        "outputId": "00d71309-9e4a-4e18-bbcf-87a1c1ddcf5d"
      },
      "source": [
        "loss_values = np.zeros(num_epochs)\n",
        "for epoch in range(num_epochs):\n",
        "    output = model(x_train)\n",
        "    loss = distance(output, x_train)\n",
        "    loss_values[epoch] = loss.item()\n",
        "    optimizer.zero_grad()\n",
        "    loss.backward()\n",
        "    optimizer.step()\n",
        "    print('epoch [{}/{}], loss:{:.4f}'.format(epoch+1, num_epochs, loss.item()))"
      ],
      "execution_count": 206,
      "outputs": [
        {
          "output_type": "stream",
          "text": [
            "epoch [1/200], loss:38.5649\n",
            "epoch [2/200], loss:27.6331\n",
            "epoch [3/200], loss:23.2622\n",
            "epoch [4/200], loss:20.9834\n",
            "epoch [5/200], loss:19.3408\n",
            "epoch [6/200], loss:19.0061\n",
            "epoch [7/200], loss:17.8452\n",
            "epoch [8/200], loss:16.3153\n",
            "epoch [9/200], loss:14.7990\n",
            "epoch [10/200], loss:12.4666\n",
            "epoch [11/200], loss:11.0095\n",
            "epoch [12/200], loss:10.6924\n",
            "epoch [13/200], loss:9.7688\n",
            "epoch [14/200], loss:8.6534\n",
            "epoch [15/200], loss:7.8413\n",
            "epoch [16/200], loss:7.3668\n",
            "epoch [17/200], loss:7.0251\n",
            "epoch [18/200], loss:6.5335\n",
            "epoch [19/200], loss:6.0954\n",
            "epoch [20/200], loss:5.8936\n",
            "epoch [21/200], loss:5.6460\n",
            "epoch [22/200], loss:5.3066\n",
            "epoch [23/200], loss:4.9924\n",
            "epoch [24/200], loss:4.7117\n",
            "epoch [25/200], loss:4.4519\n",
            "epoch [26/200], loss:4.2273\n",
            "epoch [27/200], loss:4.0123\n",
            "epoch [28/200], loss:3.7763\n",
            "epoch [29/200], loss:3.5622\n",
            "epoch [30/200], loss:3.4123\n",
            "epoch [31/200], loss:3.2689\n",
            "epoch [32/200], loss:3.0765\n",
            "epoch [33/200], loss:2.8598\n",
            "epoch [34/200], loss:2.6441\n",
            "epoch [35/200], loss:2.4555\n",
            "epoch [36/200], loss:2.3208\n",
            "epoch [37/200], loss:2.2067\n",
            "epoch [38/200], loss:2.0812\n",
            "epoch [39/200], loss:1.9619\n",
            "epoch [40/200], loss:1.8581\n",
            "epoch [41/200], loss:1.7556\n",
            "epoch [42/200], loss:1.6593\n",
            "epoch [43/200], loss:1.5733\n",
            "epoch [44/200], loss:1.5177\n",
            "epoch [45/200], loss:1.4650\n",
            "epoch [46/200], loss:1.4061\n",
            "epoch [47/200], loss:1.3473\n",
            "epoch [48/200], loss:1.2868\n",
            "epoch [49/200], loss:1.2380\n",
            "epoch [50/200], loss:1.1901\n",
            "epoch [51/200], loss:1.1487\n",
            "epoch [52/200], loss:1.1023\n",
            "epoch [53/200], loss:1.0606\n",
            "epoch [54/200], loss:1.0232\n",
            "epoch [55/200], loss:0.9877\n",
            "epoch [56/200], loss:0.9533\n",
            "epoch [57/200], loss:0.9173\n",
            "epoch [58/200], loss:0.8858\n",
            "epoch [59/200], loss:0.8532\n",
            "epoch [60/200], loss:0.8269\n",
            "epoch [61/200], loss:0.8062\n",
            "epoch [62/200], loss:0.7836\n",
            "epoch [63/200], loss:0.7623\n",
            "epoch [64/200], loss:0.7410\n",
            "epoch [65/200], loss:0.7205\n",
            "epoch [66/200], loss:0.6980\n",
            "epoch [67/200], loss:0.6793\n",
            "epoch [68/200], loss:0.6619\n",
            "epoch [69/200], loss:0.6445\n",
            "epoch [70/200], loss:0.6287\n",
            "epoch [71/200], loss:0.6147\n",
            "epoch [72/200], loss:0.5996\n",
            "epoch [73/200], loss:0.5855\n",
            "epoch [74/200], loss:0.5729\n",
            "epoch [75/200], loss:0.5593\n",
            "epoch [76/200], loss:0.5465\n",
            "epoch [77/200], loss:0.5355\n",
            "epoch [78/200], loss:0.5261\n",
            "epoch [79/200], loss:0.5212\n",
            "epoch [80/200], loss:0.5312\n",
            "epoch [81/200], loss:0.5649\n",
            "epoch [82/200], loss:0.6013\n",
            "epoch [83/200], loss:0.5373\n",
            "epoch [84/200], loss:0.4667\n",
            "epoch [85/200], loss:0.5035\n",
            "epoch [86/200], loss:0.5188\n",
            "epoch [87/200], loss:0.4567\n",
            "epoch [88/200], loss:0.4547\n",
            "epoch [89/200], loss:0.4802\n",
            "epoch [90/200], loss:0.4393\n",
            "epoch [91/200], loss:0.4307\n",
            "epoch [92/200], loss:0.4442\n",
            "epoch [93/200], loss:0.4231\n",
            "epoch [94/200], loss:0.4086\n",
            "epoch [95/200], loss:0.4204\n",
            "epoch [96/200], loss:0.4041\n",
            "epoch [97/200], loss:0.3886\n",
            "epoch [98/200], loss:0.4016\n",
            "epoch [99/200], loss:0.3876\n",
            "epoch [100/200], loss:0.3700\n",
            "epoch [101/200], loss:0.3793\n",
            "epoch [102/200], loss:0.3756\n",
            "epoch [103/200], loss:0.3575\n",
            "epoch [104/200], loss:0.3568\n",
            "epoch [105/200], loss:0.3601\n",
            "epoch [106/200], loss:0.3470\n",
            "epoch [107/200], loss:0.3393\n",
            "epoch [108/200], loss:0.3434\n",
            "epoch [109/200], loss:0.3385\n",
            "epoch [110/200], loss:0.3284\n",
            "epoch [111/200], loss:0.3264\n",
            "epoch [112/200], loss:0.3260\n",
            "epoch [113/200], loss:0.3230\n",
            "epoch [114/200], loss:0.3211\n",
            "epoch [115/200], loss:0.3237\n",
            "epoch [116/200], loss:0.3378\n",
            "epoch [117/200], loss:0.3778\n",
            "epoch [118/200], loss:0.4479\n",
            "epoch [119/200], loss:0.5111\n",
            "epoch [120/200], loss:0.4249\n",
            "epoch [121/200], loss:0.3005\n",
            "epoch [122/200], loss:0.3370\n",
            "epoch [123/200], loss:0.4019\n",
            "epoch [124/200], loss:0.3227\n",
            "epoch [125/200], loss:0.2959\n",
            "epoch [126/200], loss:0.3564\n",
            "epoch [127/200], loss:0.3229\n",
            "epoch [128/200], loss:0.2849\n",
            "epoch [129/200], loss:0.3292\n",
            "epoch [130/200], loss:0.3127\n",
            "epoch [131/200], loss:0.2782\n",
            "epoch [132/200], loss:0.3142\n",
            "epoch [133/200], loss:0.2980\n",
            "epoch [134/200], loss:0.2741\n",
            "epoch [135/200], loss:0.2999\n",
            "epoch [136/200], loss:0.2837\n",
            "epoch [137/200], loss:0.2715\n",
            "epoch [138/200], loss:0.2837\n",
            "epoch [139/200], loss:0.2750\n",
            "epoch [140/200], loss:0.2670\n",
            "epoch [141/200], loss:0.2692\n",
            "epoch [142/200], loss:0.2697\n",
            "epoch [143/200], loss:0.2605\n",
            "epoch [144/200], loss:0.2595\n",
            "epoch [145/200], loss:0.2625\n",
            "epoch [146/200], loss:0.2544\n",
            "epoch [147/200], loss:0.2528\n",
            "epoch [148/200], loss:0.2530\n",
            "epoch [149/200], loss:0.2504\n",
            "epoch [150/200], loss:0.2480\n",
            "epoch [151/200], loss:0.2442\n",
            "epoch [152/200], loss:0.2458\n",
            "epoch [153/200], loss:0.2451\n",
            "epoch [154/200], loss:0.2389\n",
            "epoch [155/200], loss:0.2390\n",
            "epoch [156/200], loss:0.2406\n",
            "epoch [157/200], loss:0.2376\n",
            "epoch [158/200], loss:0.2343\n",
            "epoch [159/200], loss:0.2326\n",
            "epoch [160/200], loss:0.2333\n",
            "epoch [161/200], loss:0.2336\n",
            "epoch [162/200], loss:0.2302\n",
            "epoch [163/200], loss:0.2270\n",
            "epoch [164/200], loss:0.2271\n",
            "epoch [165/200], loss:0.2274\n",
            "epoch [166/200], loss:0.2267\n",
            "epoch [167/200], loss:0.2252\n",
            "epoch [168/200], loss:0.2230\n",
            "epoch [169/200], loss:0.2212\n",
            "epoch [170/200], loss:0.2208\n",
            "epoch [171/200], loss:0.2206\n",
            "epoch [172/200], loss:0.2198\n",
            "epoch [173/200], loss:0.2196\n",
            "epoch [174/200], loss:0.2212\n",
            "epoch [175/200], loss:0.2274\n",
            "epoch [176/200], loss:0.2467\n",
            "epoch [177/200], loss:0.3124\n",
            "epoch [178/200], loss:0.4269\n",
            "epoch [179/200], loss:0.6435\n",
            "epoch [180/200], loss:0.5433\n",
            "epoch [181/200], loss:0.4187\n",
            "epoch [182/200], loss:0.4175\n",
            "epoch [183/200], loss:0.2956\n",
            "epoch [184/200], loss:0.3335\n",
            "epoch [185/200], loss:0.3914\n",
            "epoch [186/200], loss:0.2370\n",
            "epoch [187/200], loss:0.3474\n",
            "epoch [188/200], loss:0.3329\n",
            "epoch [189/200], loss:0.2394\n",
            "epoch [190/200], loss:0.3634\n",
            "epoch [191/200], loss:0.2481\n",
            "epoch [192/200], loss:0.2873\n",
            "epoch [193/200], loss:0.2750\n",
            "epoch [194/200], loss:0.2382\n",
            "epoch [195/200], loss:0.2797\n",
            "epoch [196/200], loss:0.2219\n",
            "epoch [197/200], loss:0.2729\n",
            "epoch [198/200], loss:0.2265\n",
            "epoch [199/200], loss:0.2456\n",
            "epoch [200/200], loss:0.2351\n"
          ],
          "name": "stdout"
        }
      ]
    },
    {
      "cell_type": "code",
      "metadata": {
        "id": "8Xw3QiPQeF1C",
        "colab_type": "code",
        "colab": {
          "base_uri": "https://localhost:8080/",
          "height": 279
        },
        "outputId": "1e6dcc56-18b5-4b7d-e37c-2091657184ca"
      },
      "source": [
        "plt.plot(np.arange(num_epochs), loss_values)\n",
        "plt.xlabel('epoch')\n",
        "plt.ylabel('loss')\n",
        "plt.yscale('log')"
      ],
      "execution_count": 213,
      "outputs": [
        {
          "output_type": "display_data",
          "data": {
            "image/png": "[encoded data removed]",
            "text/plain": [
              "<Figure size 432x288 with 1 Axes>"
            ]
          },
          "metadata": {
            "tags": [],
            "needs_background": "light"
          }
        }
      ]
    },
    {
      "cell_type": "code",
      "metadata": {
        "id": "ZLWXHYYRuXLw",
        "colab_type": "code",
        "colab": {}
      },
      "source": [
        "x_transform = model(x_train)\n",
        "latent_space = model.encoder(x_train)"
      ],
      "execution_count": 0,
      "outputs": []
    },
    {
      "cell_type": "code",
      "metadata": {
        "id": "6iP7Lgjvt5eY",
        "colab_type": "code",
        "colab": {
          "base_uri": "https://localhost:8080/",
          "height": 510
        },
        "outputId": "19e3a962-669f-4f14-ef9b-9f0ed39a2a97"
      },
      "source": [
        "plt.figure(figsize=(14,14))\n",
        "offset = 16\n",
        "for i in range(5):\n",
        "    plt.subplot(5,5,i+1) #imagenes originales\n",
        "    plt.imshow(x_train[i+offset][0].detach().numpy())\n",
        "    plt.title(target[i+offset])\n",
        "    \n",
        "    j=0 # las imagenes reconstruidas por el autoencoder\n",
        "    plt.subplot(5,5,(i+1)+5*(j+1))\n",
        "    plt.imshow(x_transform[i+offset][0].detach().numpy())\n",
        "    \n",
        "    j=1 # una de las capas de la representacion latente\n",
        "    plt.subplot(5,5,(i+1)+5*(j+1))\n",
        "    plt.imshow(latent_space[i+offset][2].detach().numpy())"
      ],
      "execution_count": 209,
      "outputs": [
        {
          "output_type": "display_data",
          "data": {
            "image/png": "[encoded data removed]",
            "text/plain": [
              "<Figure size 1008x1008 with 15 Axes>"
            ]
          },
          "metadata": {
            "tags": [],
            "needs_background": "light"
          }
        }
      ]
    }
  ]
}