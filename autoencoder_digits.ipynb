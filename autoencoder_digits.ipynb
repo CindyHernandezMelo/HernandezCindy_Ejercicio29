{
  "nbformat": 4,
  "nbformat_minor": 0,
  "metadata": {
    "colab": {
      "name": "autoencoder_digits",
      "provenance": []
    },
    "kernelspec": {
      "name": "python3",
      "display_name": "Python 3"
    }
  },
  "cells": [
    {
      "cell_type": "code",
      "metadata": {
        "id": "zp1-3K_hWnBP",
        "colab_type": "code",
        "colab": {}
      },
      "source": [
        "import numpy as np\n",
        "import matplotlib.pyplot as plt\n",
        "import torch\n",
        "import torchvision\n",
        "import torchvision.datasets\n",
        "import torchvision.models\n",
        "import torchvision.transforms\n",
        "import sklearn.datasets as skdata\n",
        "from sklearn.preprocessing import StandardScaler"
      ],
      "execution_count": 0,
      "outputs": []
    },
    {
      "cell_type": "code",
      "metadata": {
        "id": "OyqMPV2CXcEf",
        "colab_type": "code",
        "colab": {}
      },
      "source": [
        "numeros = skdata.load_digits()\n",
        "target = numeros['target']\n",
        "imagenes = numeros['images']\n",
        "n_imagenes = len(target)\n",
        "\n",
        "x_train = torch.autograd.Variable(torch.Tensor(imagenes).float())\n",
        "x_train = x_train.unsqueeze(1)\n",
        "\n",
        "mean = x_train.mean(dim=0)\n",
        "std = x_train.std(dim=0)\n",
        "std[std==0]=1.0\n",
        "\n",
        "for i in range(len(x_train)):\n",
        "    x_train[i] = (x_train[i]-mean)/std\n"
      ],
      "execution_count": 0,
      "outputs": []
    },
    {
      "cell_type": "code",
      "metadata": {
        "id": "vwVagOnqbCTW",
        "colab_type": "code",
        "colab": {}
      },
      "source": [
        "class Autoencoder(torch.nn.Module):\n",
        "    def __init__(self):\n",
        "        super(Autoencoder,self).__init__()\n",
        "        self.encoder = torch.nn.Sequential(\n",
        "            torch.nn.Conv2d(1, 20, kernel_size=4),\n",
        "            torch.nn.Conv2d(20,40,kernel_size=2),\n",
        "            torch.nn.Conv2d(40,20,kernel_size=2))\n",
        "        self.decoder = torch.nn.Sequential(             \n",
        "            torch.nn.ConvTranspose2d(20,40,kernel_size=2),\n",
        "            torch.nn.ConvTranspose2d(40,20,kernel_size=2),\n",
        "            torch.nn.ConvTranspose2d(20,1,kernel_size=4))\n",
        "    def forward(self,x):\n",
        "        x = self.encoder(x)\n",
        "        x = self.decoder(x)\n",
        "        return x\n"
      ],
      "execution_count": 0,
      "outputs": []
    },
    {
      "cell_type": "code",
      "metadata": {
        "id": "aWcmd_HIeELk",
        "colab_type": "code",
        "colab": {}
      },
      "source": [
        "num_epochs = 200\n",
        "model = Autoencoder()\n",
        "distance = torch.nn.MSELoss()\n",
        "optimizer = torch.optim.Adam(model.parameters(), lr=0.01, weight_decay=1E-3)\n"
      ],
      "execution_count": 0,
      "outputs": []
    },
    {
      "cell_type": "code",
      "metadata": {
        "id": "xMKoJcKeibCk",
        "colab_type": "code",
        "outputId": "bb5e94cb-0950-4fa8-c01b-48b78fb4a5fb",
        "colab": {
          "base_uri": "https://localhost:8080/",
          "height": 1000
        }
      },
      "source": [
        "loss_values = np.zeros(num_epochs)\n",
        "for epoch in range(num_epochs):\n",
        "    output = model(x_train)\n",
        "    loss = distance(output, x_train)\n",
        "    loss_values[epoch] = loss.item()\n",
        "    optimizer.zero_grad()\n",
        "    loss.backward()\n",
        "    optimizer.step()\n",
        "    print('epoch [{}/{}], loss:{:.4f}'.format(epoch+1, num_epochs, loss.item()))"
      ],
      "execution_count": 372,
      "outputs": [
        {
          "output_type": "stream",
          "text": [
            "epoch [1/200], loss:0.9536\n",
            "epoch [2/200], loss:0.7437\n",
            "epoch [3/200], loss:0.7851\n",
            "epoch [4/200], loss:0.7552\n",
            "epoch [5/200], loss:0.5938\n",
            "epoch [6/200], loss:0.5907\n",
            "epoch [7/200], loss:0.5560\n",
            "epoch [8/200], loss:0.5087\n",
            "epoch [9/200], loss:0.4738\n",
            "epoch [10/200], loss:0.4515\n",
            "epoch [11/200], loss:0.4279\n",
            "epoch [12/200], loss:0.4115\n",
            "epoch [13/200], loss:0.4022\n",
            "epoch [14/200], loss:0.3839\n",
            "epoch [15/200], loss:0.3627\n",
            "epoch [16/200], loss:0.3481\n",
            "epoch [17/200], loss:0.3329\n",
            "epoch [18/200], loss:0.3196\n",
            "epoch [19/200], loss:0.3050\n",
            "epoch [20/200], loss:0.2875\n",
            "epoch [21/200], loss:0.2763\n",
            "epoch [22/200], loss:0.2668\n",
            "epoch [23/200], loss:0.2551\n",
            "epoch [24/200], loss:0.2460\n",
            "epoch [25/200], loss:0.2372\n",
            "epoch [26/200], loss:0.2277\n",
            "epoch [27/200], loss:0.2190\n",
            "epoch [28/200], loss:0.2107\n",
            "epoch [29/200], loss:0.2033\n",
            "epoch [30/200], loss:0.1970\n",
            "epoch [31/200], loss:0.1892\n",
            "epoch [32/200], loss:0.1806\n",
            "epoch [33/200], loss:0.1735\n",
            "epoch [34/200], loss:0.1678\n",
            "epoch [35/200], loss:0.1626\n",
            "epoch [36/200], loss:0.1577\n",
            "epoch [37/200], loss:0.1528\n",
            "epoch [38/200], loss:0.1486\n",
            "epoch [39/200], loss:0.1449\n",
            "epoch [40/200], loss:0.1408\n",
            "epoch [41/200], loss:0.1370\n",
            "epoch [42/200], loss:0.1339\n",
            "epoch [43/200], loss:0.1306\n",
            "epoch [44/200], loss:0.1276\n",
            "epoch [45/200], loss:0.1250\n",
            "epoch [46/200], loss:0.1222\n",
            "epoch [47/200], loss:0.1195\n",
            "epoch [48/200], loss:0.1170\n",
            "epoch [49/200], loss:0.1147\n",
            "epoch [50/200], loss:0.1122\n",
            "epoch [51/200], loss:0.1095\n",
            "epoch [52/200], loss:0.1072\n",
            "epoch [53/200], loss:0.1051\n",
            "epoch [54/200], loss:0.1028\n",
            "epoch [55/200], loss:0.1005\n",
            "epoch [56/200], loss:0.0982\n",
            "epoch [57/200], loss:0.0961\n",
            "epoch [58/200], loss:0.0940\n",
            "epoch [59/200], loss:0.0920\n",
            "epoch [60/200], loss:0.0903\n",
            "epoch [61/200], loss:0.0888\n",
            "epoch [62/200], loss:0.0873\n",
            "epoch [63/200], loss:0.0860\n",
            "epoch [64/200], loss:0.0847\n",
            "epoch [65/200], loss:0.0835\n",
            "epoch [66/200], loss:0.0822\n",
            "epoch [67/200], loss:0.0809\n",
            "epoch [68/200], loss:0.0797\n",
            "epoch [69/200], loss:0.0785\n",
            "epoch [70/200], loss:0.0773\n",
            "epoch [71/200], loss:0.0762\n",
            "epoch [72/200], loss:0.0750\n",
            "epoch [73/200], loss:0.0739\n",
            "epoch [74/200], loss:0.0728\n",
            "epoch [75/200], loss:0.0717\n",
            "epoch [76/200], loss:0.0707\n",
            "epoch [77/200], loss:0.0697\n",
            "epoch [78/200], loss:0.0688\n",
            "epoch [79/200], loss:0.0679\n",
            "epoch [80/200], loss:0.0671\n",
            "epoch [81/200], loss:0.0663\n",
            "epoch [82/200], loss:0.0655\n",
            "epoch [83/200], loss:0.0649\n",
            "epoch [84/200], loss:0.0642\n",
            "epoch [85/200], loss:0.0636\n",
            "epoch [86/200], loss:0.0630\n",
            "epoch [87/200], loss:0.0624\n",
            "epoch [88/200], loss:0.0619\n",
            "epoch [89/200], loss:0.0614\n",
            "epoch [90/200], loss:0.0610\n",
            "epoch [91/200], loss:0.0605\n",
            "epoch [92/200], loss:0.0601\n",
            "epoch [93/200], loss:0.0597\n",
            "epoch [94/200], loss:0.0593\n",
            "epoch [95/200], loss:0.0589\n",
            "epoch [96/200], loss:0.0585\n",
            "epoch [97/200], loss:0.0582\n",
            "epoch [98/200], loss:0.0578\n",
            "epoch [99/200], loss:0.0575\n",
            "epoch [100/200], loss:0.0572\n",
            "epoch [101/200], loss:0.0569\n",
            "epoch [102/200], loss:0.0566\n",
            "epoch [103/200], loss:0.0563\n",
            "epoch [104/200], loss:0.0561\n",
            "epoch [105/200], loss:0.0558\n",
            "epoch [106/200], loss:0.0556\n",
            "epoch [107/200], loss:0.0553\n",
            "epoch [108/200], loss:0.0551\n",
            "epoch [109/200], loss:0.0549\n",
            "epoch [110/200], loss:0.0547\n",
            "epoch [111/200], loss:0.0544\n",
            "epoch [112/200], loss:0.0542\n",
            "epoch [113/200], loss:0.0540\n",
            "epoch [114/200], loss:0.0538\n",
            "epoch [115/200], loss:0.0537\n",
            "epoch [116/200], loss:0.0535\n",
            "epoch [117/200], loss:0.0533\n",
            "epoch [118/200], loss:0.0531\n",
            "epoch [119/200], loss:0.0530\n",
            "epoch [120/200], loss:0.0528\n",
            "epoch [121/200], loss:0.0527\n",
            "epoch [122/200], loss:0.0525\n",
            "epoch [123/200], loss:0.0524\n",
            "epoch [124/200], loss:0.0522\n",
            "epoch [125/200], loss:0.0521\n",
            "epoch [126/200], loss:0.0520\n",
            "epoch [127/200], loss:0.0518\n",
            "epoch [128/200], loss:0.0517\n",
            "epoch [129/200], loss:0.0516\n",
            "epoch [130/200], loss:0.0515\n",
            "epoch [131/200], loss:0.0514\n",
            "epoch [132/200], loss:0.0513\n",
            "epoch [133/200], loss:0.0512\n",
            "epoch [134/200], loss:0.0511\n",
            "epoch [135/200], loss:0.0510\n",
            "epoch [136/200], loss:0.0509\n",
            "epoch [137/200], loss:0.0508\n",
            "epoch [138/200], loss:0.0507\n",
            "epoch [139/200], loss:0.0506\n",
            "epoch [140/200], loss:0.0505\n",
            "epoch [141/200], loss:0.0504\n",
            "epoch [142/200], loss:0.0504\n",
            "epoch [143/200], loss:0.0503\n",
            "epoch [144/200], loss:0.0502\n",
            "epoch [145/200], loss:0.0501\n",
            "epoch [146/200], loss:0.0501\n",
            "epoch [147/200], loss:0.0500\n",
            "epoch [148/200], loss:0.0499\n",
            "epoch [149/200], loss:0.0499\n",
            "epoch [150/200], loss:0.0498\n",
            "epoch [151/200], loss:0.0497\n",
            "epoch [152/200], loss:0.0497\n",
            "epoch [153/200], loss:0.0496\n",
            "epoch [154/200], loss:0.0495\n",
            "epoch [155/200], loss:0.0495\n",
            "epoch [156/200], loss:0.0494\n",
            "epoch [157/200], loss:0.0494\n",
            "epoch [158/200], loss:0.0493\n",
            "epoch [159/200], loss:0.0493\n",
            "epoch [160/200], loss:0.0492\n",
            "epoch [161/200], loss:0.0492\n",
            "epoch [162/200], loss:0.0491\n",
            "epoch [163/200], loss:0.0491\n",
            "epoch [164/200], loss:0.0491\n",
            "epoch [165/200], loss:0.0490\n",
            "epoch [166/200], loss:0.0490\n",
            "epoch [167/200], loss:0.0489\n",
            "epoch [168/200], loss:0.0489\n",
            "epoch [169/200], loss:0.0488\n",
            "epoch [170/200], loss:0.0488\n",
            "epoch [171/200], loss:0.0488\n",
            "epoch [172/200], loss:0.0487\n",
            "epoch [173/200], loss:0.0487\n",
            "epoch [174/200], loss:0.0487\n",
            "epoch [175/200], loss:0.0486\n",
            "epoch [176/200], loss:0.0486\n",
            "epoch [177/200], loss:0.0486\n",
            "epoch [178/200], loss:0.0485\n",
            "epoch [179/200], loss:0.0485\n",
            "epoch [180/200], loss:0.0485\n",
            "epoch [181/200], loss:0.0484\n",
            "epoch [182/200], loss:0.0484\n",
            "epoch [183/200], loss:0.0484\n",
            "epoch [184/200], loss:0.0484\n",
            "epoch [185/200], loss:0.0483\n",
            "epoch [186/200], loss:0.0483\n",
            "epoch [187/200], loss:0.0483\n",
            "epoch [188/200], loss:0.0483\n",
            "epoch [189/200], loss:0.0482\n",
            "epoch [190/200], loss:0.0482\n",
            "epoch [191/200], loss:0.0482\n",
            "epoch [192/200], loss:0.0482\n",
            "epoch [193/200], loss:0.0481\n",
            "epoch [194/200], loss:0.0481\n",
            "epoch [195/200], loss:0.0481\n",
            "epoch [196/200], loss:0.0481\n",
            "epoch [197/200], loss:0.0480\n",
            "epoch [198/200], loss:0.0480\n",
            "epoch [199/200], loss:0.0480\n",
            "epoch [200/200], loss:0.0480\n"
          ],
          "name": "stdout"
        }
      ]
    },
    {
      "cell_type": "code",
      "metadata": {
        "id": "8Xw3QiPQeF1C",
        "colab_type": "code",
        "outputId": "7932f92c-d17b-4698-d60e-9b4ac205807f",
        "colab": {
          "base_uri": "https://localhost:8080/",
          "height": 279
        }
      },
      "source": [
        "plt.plot(np.arange(num_epochs), loss_values)\n",
        "plt.xlabel('epoch')\n",
        "plt.ylabel('loss')\n",
        "plt.yscale('logit')"
      ],
      "execution_count": 373,
      "outputs": [
        {
          "output_type": "display_data",
          "data": {
            "image/png": "[encoded data removed]",
            "text/plain": [
              "<Figure size 432x288 with 1 Axes>"
            ]
          },
          "metadata": {
            "tags": [],
            "needs_background": "light"
          }
        }
      ]
    },
    {
      "cell_type": "code",
      "metadata": {
        "id": "ZLWXHYYRuXLw",
        "colab_type": "code",
        "colab": {}
      },
      "source": [
        "x_transform = model(x_train)\n",
        "latent_space = model.encoder(x_train)"
      ],
      "execution_count": 0,
      "outputs": []
    },
    {
      "cell_type": "code",
      "metadata": {
        "id": "6iP7Lgjvt5eY",
        "colab_type": "code",
        "outputId": "56a7d1c9-2c47-408b-be23-20fb29c31cc9",
        "colab": {
          "base_uri": "https://localhost:8080/",
          "height": 510
        }
      },
      "source": [
        "plt.figure(figsize=(14,14))\n",
        "offset = 550\n",
        "for i in range(5):\n",
        "    plt.subplot(5,5,i+1) #imagenes originales\n",
        "    plt.imshow(x_train[i+offset][0].detach().numpy())\n",
        "    plt.title(target[i+offset])\n",
        "    \n",
        "    j=0 # las imagenes reconstruidas por el autoencoder\n",
        "    plt.subplot(5,5,(i+1)+5*(j+1))\n",
        "    plt.imshow(x_transform[i+offset][0].detach().numpy())\n",
        "    \n",
        "    j=1 # una de las capas de la representacion latente\n",
        "    plt.subplot(5,5,(i+1)+5*(j+1))\n",
        "    plt.imshow(latent_space[i+offset][2].detach().numpy())"
      ],
      "execution_count": 375,
      "outputs": [
        {
          "output_type": "display_data",
          "data": {
            "image/png": "[encoded data removed]",
            "text/plain": [
              "<Figure size 1008x1008 with 15 Axes>"
            ]
          },
          "metadata": {
            "tags": [],
            "needs_background": "light"
          }
        }
      ]
    }
  ]
}